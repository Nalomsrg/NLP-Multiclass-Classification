{
  "nbformat": 4,
  "nbformat_minor": 0,
  "metadata": {
    "colab": {
      "name": "Proyek NLP Multiclass Classification - Nalom Maruli Tua.ipynb",
      "provenance": []
    },
    "kernelspec": {
      "name": "python3",
      "display_name": "Python 3"
    },
    "language_info": {
      "name": "python"
    }
  },
  "cells": [
    {
      "cell_type": "markdown",
      "metadata": {
        "id": "3T4VnJulR7IJ"
      },
      "source": [
        "\n",
        "\n",
        "*   Nama Peserta : Nalom Maruli Tua\n",
        "*   Panggilan : Nalom\n",
        "*   Class Dicoding : Belajar Pengembangan Machine Learning\n",
        "*   Tgl Selesai : 8 Agustus 2021\n",
        "*   Email : siregarnalom@gmail.com\n",
        "\n"
      ]
    },
    {
      "cell_type": "code",
      "metadata": {
        "colab": {
          "base_uri": "https://localhost:8080/",
          "height": 0
        },
        "id": "1-npv5XMev2A",
        "outputId": "dd0341c0-e4d6-49b8-e388-6fcb133f7349"
      },
      "source": [
        "import pandas as pd\n",
        "import numpy as np\n",
        "import csv\n",
        "import tensorflow as tf\n",
        "from tensorflow.keras.layers import Dense, Flatten, LSTM, Dropout, Activation, Embedding, Bidirectional\n",
        "from tensorflow.keras.models import Sequential\n",
        "from tensorflow.keras.preprocessing.text import Tokenizer\n",
        "from tensorflow.keras.preprocessing.sequence import pad_sequences\n",
        "from sklearn.model_selection import train_test_split  \n",
        "# For Stopwords\n",
        "import nltk\n",
        "nltk.download('stopwords')\n",
        "from nltk.corpus import stopwords\n",
        "STOPWORDS = set(stopwords.words('english'))"
      ],
      "execution_count": 105,
      "outputs": [
        {
          "output_type": "stream",
          "text": [
            "[nltk_data] Downloading package stopwords to /root/nltk_data...\n",
            "[nltk_data]   Package stopwords is already up-to-date!\n"
          ],
          "name": "stdout"
        }
      ]
    },
    {
      "cell_type": "code",
      "metadata": {
        "id": "jklZqDkvHKzU",
        "outputId": "97d5ada5-3c5f-4836-bfa8-19e2702089ce",
        "colab": {
          "base_uri": "https://localhost:8080/",
          "height": 0
        }
      },
      "source": [
        "!wget --no-check-certificate \\\n",
        "    https://storage.googleapis.com/dataset-uploader/bbc/bbc-text.csv \\\n",
        "    -O /tmp/bbc-text.csv"
      ],
      "execution_count": 106,
      "outputs": [
        {
          "output_type": "stream",
          "text": [
            "--2021-08-08 15:05:04--  https://storage.googleapis.com/dataset-uploader/bbc/bbc-text.csv\n",
            "Resolving storage.googleapis.com (storage.googleapis.com)... 173.194.210.128, 173.194.213.128, 173.194.214.128, ...\n",
            "Connecting to storage.googleapis.com (storage.googleapis.com)|173.194.210.128|:443... connected.\n",
            "HTTP request sent, awaiting response... 200 OK\n",
            "Length: 5057493 (4.8M) [text/csv]\n",
            "Saving to: ‘/tmp/bbc-text.csv’\n",
            "\n",
            "\r/tmp/bbc-text.csv     0%[                    ]       0  --.-KB/s               \r/tmp/bbc-text.csv   100%[===================>]   4.82M  --.-KB/s    in 0.02s   \n",
            "\n",
            "2021-08-08 15:05:04 (217 MB/s) - ‘/tmp/bbc-text.csv’ saved [5057493/5057493]\n",
            "\n"
          ],
          "name": "stdout"
        }
      ]
    },
    {
      "cell_type": "code",
      "metadata": {
        "id": "UVa86dF7zaxu"
      },
      "source": [
        "vocab_size = 5000 \n",
        "embedding_dim = 64\n",
        "max_length = 200\n",
        "trunc_type = 'post'\n",
        "padding_type = 'post'\n",
        "oov_tok = 'x' \n",
        "training_portion = .8"
      ],
      "execution_count": 107,
      "outputs": []
    },
    {
      "cell_type": "code",
      "metadata": {
        "id": "1Tdkwlb7zfAW"
      },
      "source": [
        "articles = []\n",
        "labels = []\n",
        "\n",
        "with open(\"/tmp/bbc-text.csv\", 'r') as csvfile:\n",
        "    reader = csv.reader(csvfile, delimiter=',')\n",
        "    next(reader)\n",
        "    for row in reader:\n",
        "        labels.append(row[0])\n",
        "        article = row[1]\n",
        "        for word in STOPWORDS:\n",
        "            token = ' ' + word + ' '\n",
        "            article = article.replace(token, ' ')\n",
        "            article = article.replace(' ', ' ')\n",
        "        articles.append(article)"
      ],
      "execution_count": 108,
      "outputs": []
    },
    {
      "cell_type": "code",
      "metadata": {
        "id": "UKTVi7iZ0UiW"
      },
      "source": [
        "train_size = int(len(articles) * training_portion)\n",
        "\n",
        "kalimat_train = articles[0: train_size]\n",
        "kategori_train = labels[0: train_size]\n",
        "\n",
        "kalimat_val = articles[train_size:]\n",
        "kategori_val = labels[train_size:]"
      ],
      "execution_count": 109,
      "outputs": []
    },
    {
      "cell_type": "code",
      "metadata": {
        "id": "1ByXR9GY1aDY"
      },
      "source": [
        "tokenizer = Tokenizer(num_words=vocab_size, oov_token=oov_tok)\n",
        "tokenizer.fit_on_texts(kalimat_train)\n",
        "tokenizer.fit_on_texts(kalimat_val)\n",
        "\n",
        "sequence_train = tokenizer.texts_to_sequences(kalimat_train)\n",
        "sequence_val = tokenizer.texts_to_sequences(kalimat_val)\n",
        "\n",
        "padd_train = pad_sequences(sequence_train, padding=padding_type, truncating=trunc_type)\n",
        "padd_val = pad_sequences(sequence_val, padding=padding_type, truncating=trunc_type)\n"
      ],
      "execution_count": 110,
      "outputs": []
    },
    {
      "cell_type": "code",
      "metadata": {
        "id": "2oQLq7Em047A"
      },
      "source": [
        "label_tokenizer = Tokenizer()\n",
        "label_tokenizer.fit_on_texts(labels)\n",
        "\n",
        "kategori_train_seq = np.array(label_tokenizer.texts_to_sequences(kategori_train))\n",
        "kategori_val_seq = np.array(label_tokenizer.texts_to_sequences(kategori_val))"
      ],
      "execution_count": 111,
      "outputs": []
    },
    {
      "cell_type": "code",
      "metadata": {
        "colab": {
          "base_uri": "https://localhost:8080/",
          "height": 0
        },
        "id": "S1Pu8IzC2T6y",
        "outputId": "1622f2f4-6018-4cc0-8271-dafb7c4fda8b"
      },
      "source": [
        "model = Sequential()\n",
        "model.add(Embedding(vocab_size, embedding_dim))\n",
        "model.add(Dropout(0.5))\n",
        "model.add(Bidirectional(LSTM(embedding_dim)))\n",
        "model.add(Dense(6, activation='softmax'))\n",
        "\n",
        "model.summary()"
      ],
      "execution_count": 112,
      "outputs": [
        {
          "output_type": "stream",
          "text": [
            "Model: \"sequential_10\"\n",
            "_________________________________________________________________\n",
            "Layer (type)                 Output Shape              Param #   \n",
            "=================================================================\n",
            "embedding_10 (Embedding)     (None, None, 64)          320000    \n",
            "_________________________________________________________________\n",
            "dropout_9 (Dropout)          (None, None, 64)          0         \n",
            "_________________________________________________________________\n",
            "bidirectional_9 (Bidirection (None, 128)               66048     \n",
            "_________________________________________________________________\n",
            "dense_12 (Dense)             (None, 6)                 774       \n",
            "=================================================================\n",
            "Total params: 386,822\n",
            "Trainable params: 386,822\n",
            "Non-trainable params: 0\n",
            "_________________________________________________________________\n"
          ],
          "name": "stdout"
        }
      ]
    },
    {
      "cell_type": "code",
      "metadata": {
        "id": "DCgjG9QVLUJd"
      },
      "source": [
        "opt = tf.keras.optimizers.Adam(learning_rate=0.001, decay=1e-6)\n",
        "model.compile(\n",
        "    loss='sparse_categorical_crossentropy',\n",
        "    optimizer=opt,\n",
        "    metrics=['accuracy'],\n",
        ")"
      ],
      "execution_count": 113,
      "outputs": []
    },
    {
      "cell_type": "code",
      "metadata": {
        "id": "QduGq9YJ3qlE"
      },
      "source": [
        "class myCallback(tf.keras.callbacks.Callback):\n",
        "  def on_epoch_end(self, epoch, logs={}):\n",
        "    if(logs.get('val_accuracy')>0.9 and logs.get('accuracy')>0.9):\n",
        "      print(\"\\nAkurasi telah mencapai >90%!\")\n",
        "      self.model.stop_training = True\n",
        "callbacks = myCallback()"
      ],
      "execution_count": 114,
      "outputs": []
    },
    {
      "cell_type": "code",
      "metadata": {
        "colab": {
          "base_uri": "https://localhost:8080/",
          "height": 0
        },
        "id": "YwQt5-g03yrc",
        "outputId": "c52dccc5-f3af-4364-c2c1-f0b8047abb9c"
      },
      "source": [
        "num_epochs = 10\n",
        "history = model.fit(padd_train, kategori_train_seq, epochs=num_epochs, callbacks=[callbacks], \n",
        "                    validation_data=(padd_val, kategori_val_seq), verbose=2)\n",
        "\n"
      ],
      "execution_count": 115,
      "outputs": [
        {
          "output_type": "stream",
          "text": [
            "Epoch 1/10\n",
            "56/56 - 162s - loss: 1.6210 - accuracy: 0.2691 - val_loss: 1.4681 - val_accuracy: 0.4584\n",
            "Epoch 2/10\n",
            "56/56 - 158s - loss: 0.9599 - accuracy: 0.7028 - val_loss: 0.7293 - val_accuracy: 0.8404\n",
            "Epoch 3/10\n",
            "56/56 - 158s - loss: 0.4131 - accuracy: 0.8893 - val_loss: 0.4047 - val_accuracy: 0.9101\n",
            "Epoch 4/10\n",
            "56/56 - 159s - loss: 0.3413 - accuracy: 0.9275 - val_loss: 0.3498 - val_accuracy: 0.9191\n",
            "\n",
            "Akurasi telah mencapai >90%!\n"
          ],
          "name": "stdout"
        }
      ]
    },
    {
      "cell_type": "code",
      "metadata": {
        "colab": {
          "base_uri": "https://localhost:8080/",
          "height": 541
        },
        "id": "67MsTRrfiATl",
        "outputId": "ecfaeb2e-f6c9-4b8f-9690-fe56914559e8"
      },
      "source": [
        "import matplotlib.pyplot as plt\n",
        "\n",
        "def plot_graphs(history, string):\n",
        "  plt.plot(history.history[string])\n",
        "  plt.plot(history.history['val_'+string])\n",
        "  plt.xlabel(\"Epochs\")\n",
        "  plt.ylabel(string)\n",
        "  plt.legend([string, 'val_'+string])\n",
        "  plt.show()\n",
        "  \n",
        "plot_graphs(history, \"accuracy\")\n",
        "plot_graphs(history, \"loss\")"
      ],
      "execution_count": 116,
      "outputs": [
        {
          "output_type": "display_data",
          "data": {
            "image/png": "[encoded data removed]",
            "text/plain": [
              "<Figure size 432x288 with 1 Axes>"
            ]
          },
          "metadata": {
            "tags": [],
            "needs_background": "light"
          }
        },
        {
          "output_type": "display_data",
          "data": {
            "image/png": "[encoded data removed]",
            "text/plain": [
              "<Figure size 432x288 with 1 Axes>"
            ]
          },
          "metadata": {
            "tags": [],
            "needs_background": "light"
          }
        }
      ]
    }
  ]
}